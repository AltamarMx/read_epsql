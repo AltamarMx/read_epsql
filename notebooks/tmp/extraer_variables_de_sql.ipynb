{
 "cells": [
  {
   "cell_type": "code",
   "execution_count": 1,
   "metadata": {},
   "outputs": [],
   "source": [
    "import sqlite3 as sql\n",
    "import pandas as pd\n",
    "from datetime import timedelta"
   ]
  },
  {
   "cell_type": "markdown",
   "metadata": {},
   "source": [
    "# Función _getKeyVariable_ para identificar si existe un nombre clave de la variable, si no existe retorna \"\""
   ]
  },
  {
   "cell_type": "code",
   "execution_count": 2,
   "metadata": {},
   "outputs": [],
   "source": [
    "def getKeyVariable(var_value):\n",
    "    try:\n",
    "        var_value.astype(float)\n",
    "        return var_value + \":\"\n",
    "    except:\n",
    "        return \"\""
   ]
  },
  {
   "cell_type": "markdown",
   "metadata": {},
   "source": [
    "# Función getTimestamp para crear el timestamp de la info extraida, si la hora tiene valor 24, corrije"
   ]
  },
  {
   "cell_type": "code",
   "execution_count": 3,
   "metadata": {},
   "outputs": [],
   "source": [
    "def getTimestamp(tmYear, tmMonth, tmDay, tmHour, tmMin):\n",
    "    tsDate = str(tmYear) + \"/\" + str(tmMonth) + \"/\" + str(tmDay)\n",
    "    tsDate = pd.to_datetime(tsDate, format=\"%Y/%m/%d\")\n",
    "    if (tmHour > 23):\n",
    "        tmHour = 0\n",
    "        tsDate += timedelta(days=1)\n",
    "    tsDate = tsDate.replace(hour=tmHour, minute=tmMin)\n",
    "    return tsDate"
   ]
  },
  {
   "cell_type": "markdown",
   "metadata": {},
   "source": [
    "# 1. Crear conexión a archivo SQL"
   ]
  },
  {
   "cell_type": "code",
   "execution_count": 4,
   "metadata": {},
   "outputs": [],
   "source": [
    "myconn = sql.connect(\"eplusout.sql\")\n",
    "mycursor = myconn.cursor()"
   ]
  },
  {
   "cell_type": "markdown",
   "metadata": {},
   "source": [
    "## 1.1 Comando SQL para datos de las variables de salida reportadas"
   ]
  },
  {
   "cell_type": "code",
   "execution_count": 5,
   "metadata": {},
   "outputs": [],
   "source": [
    "comando = \"\"\"SELECT ReportData.TimeIndex, ReportData.ReportDataDictionaryIndex, Time.DayType, ReportData.Value\n",
    "  FROM (ReportData INNER JOIN ReportDataDictionary ON ReportData.ReportDataDictionaryIndex = ReportDataDictionary.ReportDataDictionaryIndex) \n",
    "  INNER JOIN Time ON ReportData.TimeIndex = Time.TimeIndex\"\"\""
   ]
  },
  {
   "cell_type": "markdown",
   "metadata": {},
   "source": [
    "## 1.2 Comando SQL para obtener datos del índice y nombre de las variables y otras propiedades"
   ]
  },
  {
   "cell_type": "code",
   "execution_count": 6,
   "metadata": {},
   "outputs": [],
   "source": [
    "comando_variables = \"SELECT ReportDataDictionaryIndex, KeyValue, Name, Units FROM ReportDataDictionary\""
   ]
  },
  {
   "cell_type": "markdown",
   "metadata": {},
   "source": [
    "## 1.3 Comando SQL para obtener datos de índices de tiempo y representación"
   ]
  },
  {
   "cell_type": "code",
   "execution_count": 7,
   "metadata": {},
   "outputs": [],
   "source": [
    "comando_tiempo = \"SELECT tm.TimeIndex, tm.Year, tm.Month, tm.Day, tm.Hour, tm.Minute FROM Time AS tm\""
   ]
  },
  {
   "cell_type": "markdown",
   "metadata": {},
   "source": [
    "# 2. Executar comando para datos de las variables"
   ]
  },
  {
   "cell_type": "code",
   "execution_count": 8,
   "metadata": {},
   "outputs": [
    {
     "data": {
      "text/plain": [
       "<sqlite3.Cursor at 0x7fcfc1139500>"
      ]
     },
     "execution_count": 8,
     "metadata": {},
     "output_type": "execute_result"
    }
   ],
   "source": [
    "mycursor.execute(comando)"
   ]
  },
  {
   "cell_type": "code",
   "execution_count": 9,
   "metadata": {},
   "outputs": [],
   "source": [
    "data = mycursor.fetchall()"
   ]
  },
  {
   "cell_type": "code",
   "execution_count": 10,
   "metadata": {},
   "outputs": [],
   "source": [
    "df = pd.DataFrame(data)"
   ]
  },
  {
   "cell_type": "code",
   "execution_count": 11,
   "metadata": {},
   "outputs": [],
   "source": [
    "df.columns = [\"Time Index\", \"Variable Index\", \"Type of Day\", \"Variable Value\"]"
   ]
  },
  {
   "cell_type": "markdown",
   "metadata": {},
   "source": [
    "Se depura en caso de reportar datos de DesignDay"
   ]
  },
  {
   "cell_type": "code",
   "execution_count": 12,
   "metadata": {},
   "outputs": [],
   "source": [
    "df2 = df[df[\"Type of Day\"].isin([\"Monday\", \"Tuesday\", \"Wednesday\", \"Thursday\", \"Friday\", \"Saturday\", \"Sunday\"])]"
   ]
  },
  {
   "cell_type": "markdown",
   "metadata": {},
   "source": [
    "Se reorganiza tablas acorde al índice de las variables"
   ]
  },
  {
   "cell_type": "code",
   "execution_count": 13,
   "metadata": {},
   "outputs": [],
   "source": [
    "df3  = df2.pivot(index=\"Time Index\", columns=\"Variable Index\", values=[\"Variable Value\"])"
   ]
  },
  {
   "cell_type": "markdown",
   "metadata": {},
   "source": [
    "# 3. Executar comando para extraer nombre de variables"
   ]
  },
  {
   "cell_type": "code",
   "execution_count": 14,
   "metadata": {},
   "outputs": [
    {
     "data": {
      "text/plain": [
       "<sqlite3.Cursor at 0x7fcfc1139500>"
      ]
     },
     "execution_count": 14,
     "metadata": {},
     "output_type": "execute_result"
    }
   ],
   "source": [
    "mycursor.execute(comando_variables)"
   ]
  },
  {
   "cell_type": "code",
   "execution_count": 15,
   "metadata": {},
   "outputs": [],
   "source": [
    "data_variables = mycursor.fetchall()"
   ]
  },
  {
   "cell_type": "code",
   "execution_count": 16,
   "metadata": {},
   "outputs": [],
   "source": [
    "df_variables = pd.DataFrame(data_variables)"
   ]
  },
  {
   "cell_type": "code",
   "execution_count": 17,
   "metadata": {},
   "outputs": [],
   "source": [
    "df_variables.index = df_variables[0]"
   ]
  },
  {
   "cell_type": "markdown",
   "metadata": {},
   "source": [
    "Crear nombre compuesto para el reporte de variables que contenga clave, nombre y unidad de medida"
   ]
  },
  {
   "cell_type": "code",
   "execution_count": 18,
   "metadata": {},
   "outputs": [],
   "source": [
    "df_variables[\"Variable Name\"] = getKeyVariable(df_variables[1]) + df_variables[2] + \" (\" + df_variables[3] + \")\""
   ]
  },
  {
   "cell_type": "code",
   "execution_count": 19,
   "metadata": {},
   "outputs": [],
   "source": [
    "variable_cols = []\n",
    "for i in df3.columns:\n",
    "    variable_cols.append(df_variables.loc[i[1]][\"Variable Name\"])"
   ]
  },
  {
   "cell_type": "code",
   "execution_count": 20,
   "metadata": {},
   "outputs": [],
   "source": [
    "df3.columns = variable_cols"
   ]
  },
  {
   "cell_type": "markdown",
   "metadata": {},
   "source": [
    "# 4. Executar comando para encontrar datos de tiempo"
   ]
  },
  {
   "cell_type": "code",
   "execution_count": 21,
   "metadata": {},
   "outputs": [
    {
     "data": {
      "text/plain": [
       "<sqlite3.Cursor at 0x7fcfc1139500>"
      ]
     },
     "execution_count": 21,
     "metadata": {},
     "output_type": "execute_result"
    }
   ],
   "source": [
    "mycursor.execute(comando_tiempo)"
   ]
  },
  {
   "cell_type": "code",
   "execution_count": 22,
   "metadata": {},
   "outputs": [],
   "source": [
    "data_timestamp = mycursor.fetchall()"
   ]
  },
  {
   "cell_type": "code",
   "execution_count": 23,
   "metadata": {},
   "outputs": [],
   "source": [
    "df_timestamp = pd.DataFrame(data_timestamp)"
   ]
  },
  {
   "cell_type": "code",
   "execution_count": 24,
   "metadata": {},
   "outputs": [],
   "source": [
    "df_timestamp.index = df_timestamp[0]"
   ]
  },
  {
   "cell_type": "markdown",
   "metadata": {},
   "source": [
    "Retirar los datos de año = 0 (días diseño)"
   ]
  },
  {
   "cell_type": "code",
   "execution_count": 25,
   "metadata": {},
   "outputs": [],
   "source": [
    "df_yeartm = df_timestamp[df_timestamp[1] != 0]"
   ]
  },
  {
   "cell_type": "code",
   "execution_count": 26,
   "metadata": {},
   "outputs": [
    {
     "data": {
      "text/html": [
       "<div>\n",
       "<style scoped>\n",
       "    .dataframe tbody tr th:only-of-type {\n",
       "        vertical-align: middle;\n",
       "    }\n",
       "\n",
       "    .dataframe tbody tr th {\n",
       "        vertical-align: top;\n",
       "    }\n",
       "\n",
       "    .dataframe thead th {\n",
       "        text-align: right;\n",
       "    }\n",
       "</style>\n",
       "<table border=\"1\" class=\"dataframe\">\n",
       "  <thead>\n",
       "    <tr style=\"text-align: right;\">\n",
       "      <th></th>\n",
       "      <th>0</th>\n",
       "      <th>1</th>\n",
       "      <th>2</th>\n",
       "      <th>3</th>\n",
       "      <th>4</th>\n",
       "      <th>5</th>\n",
       "    </tr>\n",
       "    <tr>\n",
       "      <th>0</th>\n",
       "      <th></th>\n",
       "      <th></th>\n",
       "      <th></th>\n",
       "      <th></th>\n",
       "      <th></th>\n",
       "      <th></th>\n",
       "    </tr>\n",
       "  </thead>\n",
       "  <tbody>\n",
       "    <tr>\n",
       "      <th>170</th>\n",
       "      <td>170</td>\n",
       "      <td>2006</td>\n",
       "      <td>1</td>\n",
       "      <td>1</td>\n",
       "      <td>0</td>\n",
       "      <td>10</td>\n",
       "    </tr>\n",
       "    <tr>\n",
       "      <th>171</th>\n",
       "      <td>171</td>\n",
       "      <td>2006</td>\n",
       "      <td>1</td>\n",
       "      <td>1</td>\n",
       "      <td>0</td>\n",
       "      <td>20</td>\n",
       "    </tr>\n",
       "    <tr>\n",
       "      <th>172</th>\n",
       "      <td>172</td>\n",
       "      <td>2006</td>\n",
       "      <td>1</td>\n",
       "      <td>1</td>\n",
       "      <td>0</td>\n",
       "      <td>30</td>\n",
       "    </tr>\n",
       "    <tr>\n",
       "      <th>173</th>\n",
       "      <td>173</td>\n",
       "      <td>2006</td>\n",
       "      <td>1</td>\n",
       "      <td>1</td>\n",
       "      <td>0</td>\n",
       "      <td>40</td>\n",
       "    </tr>\n",
       "    <tr>\n",
       "      <th>174</th>\n",
       "      <td>174</td>\n",
       "      <td>2006</td>\n",
       "      <td>1</td>\n",
       "      <td>1</td>\n",
       "      <td>0</td>\n",
       "      <td>50</td>\n",
       "    </tr>\n",
       "    <tr>\n",
       "      <th>...</th>\n",
       "      <td>...</td>\n",
       "      <td>...</td>\n",
       "      <td>...</td>\n",
       "      <td>...</td>\n",
       "      <td>...</td>\n",
       "      <td>...</td>\n",
       "    </tr>\n",
       "    <tr>\n",
       "      <th>61497</th>\n",
       "      <td>61497</td>\n",
       "      <td>2006</td>\n",
       "      <td>12</td>\n",
       "      <td>31</td>\n",
       "      <td>23</td>\n",
       "      <td>40</td>\n",
       "    </tr>\n",
       "    <tr>\n",
       "      <th>61498</th>\n",
       "      <td>61498</td>\n",
       "      <td>2006</td>\n",
       "      <td>12</td>\n",
       "      <td>31</td>\n",
       "      <td>23</td>\n",
       "      <td>50</td>\n",
       "    </tr>\n",
       "    <tr>\n",
       "      <th>61499</th>\n",
       "      <td>61499</td>\n",
       "      <td>2006</td>\n",
       "      <td>12</td>\n",
       "      <td>31</td>\n",
       "      <td>24</td>\n",
       "      <td>0</td>\n",
       "    </tr>\n",
       "    <tr>\n",
       "      <th>61500</th>\n",
       "      <td>61500</td>\n",
       "      <td>2006</td>\n",
       "      <td>12</td>\n",
       "      <td>31</td>\n",
       "      <td>24</td>\n",
       "      <td>0</td>\n",
       "    </tr>\n",
       "    <tr>\n",
       "      <th>61501</th>\n",
       "      <td>61501</td>\n",
       "      <td>2006</td>\n",
       "      <td>12</td>\n",
       "      <td>31</td>\n",
       "      <td>24</td>\n",
       "      <td>0</td>\n",
       "    </tr>\n",
       "  </tbody>\n",
       "</table>\n",
       "<p>61332 rows × 6 columns</p>\n",
       "</div>"
      ],
      "text/plain": [
       "           0     1   2   3   4   5\n",
       "0                                 \n",
       "170      170  2006   1   1   0  10\n",
       "171      171  2006   1   1   0  20\n",
       "172      172  2006   1   1   0  30\n",
       "173      173  2006   1   1   0  40\n",
       "174      174  2006   1   1   0  50\n",
       "...      ...   ...  ..  ..  ..  ..\n",
       "61497  61497  2006  12  31  23  40\n",
       "61498  61498  2006  12  31  23  50\n",
       "61499  61499  2006  12  31  24   0\n",
       "61500  61500  2006  12  31  24   0\n",
       "61501  61501  2006  12  31  24   0\n",
       "\n",
       "[61332 rows x 6 columns]"
      ]
     },
     "execution_count": 26,
     "metadata": {},
     "output_type": "execute_result"
    }
   ],
   "source": [
    "df_yeartm"
   ]
  },
  {
   "cell_type": "markdown",
   "metadata": {},
   "source": [
    "Crear una columna con los timestamp consolidados de los datos del dataframe del tiempo."
   ]
  },
  {
   "cell_type": "code",
   "execution_count": 27,
   "metadata": {},
   "outputs": [
    {
     "name": "stderr",
     "output_type": "stream",
     "text": [
      "<ipython-input-27-7adf42ee6722>:1: SettingWithCopyWarning: \n",
      "A value is trying to be set on a copy of a slice from a DataFrame.\n",
      "Try using .loc[row_indexer,col_indexer] = value instead\n",
      "\n",
      "See the caveats in the documentation: https://pandas.pydata.org/pandas-docs/stable/user_guide/indexing.html#returning-a-view-versus-a-copy\n",
      "  df_yeartm[\"Timestamp\"] = df_yeartm.apply(lambda x : getTimestamp(x[1], x[2], x[3], x[4], x[5]), axis = 1)\n"
     ]
    }
   ],
   "source": [
    "df_yeartm[\"Timestamp\"] = df_yeartm.apply(lambda x : getTimestamp(x[1], x[2], x[3], x[4], x[5]), axis = 1)"
   ]
  },
  {
   "cell_type": "code",
   "execution_count": 28,
   "metadata": {},
   "outputs": [],
   "source": [
    "time_cols = []\n",
    "for i in df3.index:\n",
    "    time_cols.append(df_yeartm[\"Timestamp\"][i])"
   ]
  },
  {
   "cell_type": "code",
   "execution_count": 29,
   "metadata": {},
   "outputs": [],
   "source": [
    "df3.index = time_cols"
   ]
  },
  {
   "cell_type": "markdown",
   "metadata": {},
   "source": [
    "# 5. Dataframe con la información extraída del archivo SQL"
   ]
  },
  {
   "cell_type": "code",
   "execution_count": 30,
   "metadata": {},
   "outputs": [
    {
     "data": {
      "text/html": [
       "<div>\n",
       "<style scoped>\n",
       "    .dataframe tbody tr th:only-of-type {\n",
       "        vertical-align: middle;\n",
       "    }\n",
       "\n",
       "    .dataframe tbody tr th {\n",
       "        vertical-align: top;\n",
       "    }\n",
       "\n",
       "    .dataframe thead th {\n",
       "        text-align: right;\n",
       "    }\n",
       "</style>\n",
       "<table border=\"1\" class=\"dataframe\">\n",
       "  <thead>\n",
       "    <tr style=\"text-align: right;\">\n",
       "      <th></th>\n",
       "      <th>Electricity:Facility (J)</th>\n",
       "      <th>Electricity:Facility (J)</th>\n",
       "      <th>Zone Air Temperature (C)</th>\n",
       "      <th>Zone Air Relative Humidity (%)</th>\n",
       "      <th>Zone Air Temperature (C)</th>\n",
       "      <th>Zone Air Relative Humidity (%)</th>\n",
       "      <th>Zone Air Temperature (C)</th>\n",
       "      <th>Zone Air Relative Humidity (%)</th>\n",
       "      <th>Zone Air Temperature (C)</th>\n",
       "      <th>Zone Air Relative Humidity (%)</th>\n",
       "      <th>...</th>\n",
       "      <th>Zone Ideal Loads Zone Sensible Cooling Rate (W)</th>\n",
       "      <th>Zone Ideal Loads Zone Total Cooling Rate (W)</th>\n",
       "      <th>Zone Ideal Loads Zone Sensible Cooling Rate (W)</th>\n",
       "      <th>Zone Ideal Loads Zone Total Cooling Rate (W)</th>\n",
       "      <th>Zone Ideal Loads Zone Sensible Cooling Rate (W)</th>\n",
       "      <th>Zone Ideal Loads Zone Total Cooling Rate (W)</th>\n",
       "      <th>Zone Ideal Loads Zone Sensible Cooling Rate (W)</th>\n",
       "      <th>Zone Ideal Loads Zone Total Cooling Rate (W)</th>\n",
       "      <th>Zone Ideal Loads Zone Sensible Cooling Rate (W)</th>\n",
       "      <th>Zone Ideal Loads Zone Total Cooling Rate (W)</th>\n",
       "    </tr>\n",
       "  </thead>\n",
       "  <tbody>\n",
       "    <tr>\n",
       "      <th>2006-01-01 00:10:00</th>\n",
       "      <td>792000.031471</td>\n",
       "      <td>NaN</td>\n",
       "      <td>NaN</td>\n",
       "      <td>NaN</td>\n",
       "      <td>NaN</td>\n",
       "      <td>NaN</td>\n",
       "      <td>NaN</td>\n",
       "      <td>NaN</td>\n",
       "      <td>NaN</td>\n",
       "      <td>NaN</td>\n",
       "      <td>...</td>\n",
       "      <td>0.000000</td>\n",
       "      <td>0.000000</td>\n",
       "      <td>45.825577</td>\n",
       "      <td>74.960768</td>\n",
       "      <td>38.481177</td>\n",
       "      <td>55.577169</td>\n",
       "      <td>0.000000</td>\n",
       "      <td>0.000000</td>\n",
       "      <td>14.234707</td>\n",
       "      <td>23.727903</td>\n",
       "    </tr>\n",
       "    <tr>\n",
       "      <th>2006-01-01 00:20:00</th>\n",
       "      <td>792000.031471</td>\n",
       "      <td>NaN</td>\n",
       "      <td>NaN</td>\n",
       "      <td>NaN</td>\n",
       "      <td>NaN</td>\n",
       "      <td>NaN</td>\n",
       "      <td>NaN</td>\n",
       "      <td>NaN</td>\n",
       "      <td>NaN</td>\n",
       "      <td>NaN</td>\n",
       "      <td>...</td>\n",
       "      <td>0.000000</td>\n",
       "      <td>0.000000</td>\n",
       "      <td>42.524018</td>\n",
       "      <td>70.120317</td>\n",
       "      <td>36.313872</td>\n",
       "      <td>53.021464</td>\n",
       "      <td>0.000000</td>\n",
       "      <td>0.000000</td>\n",
       "      <td>13.741370</td>\n",
       "      <td>22.983314</td>\n",
       "    </tr>\n",
       "    <tr>\n",
       "      <th>2006-01-01 00:30:00</th>\n",
       "      <td>792000.031471</td>\n",
       "      <td>NaN</td>\n",
       "      <td>NaN</td>\n",
       "      <td>NaN</td>\n",
       "      <td>NaN</td>\n",
       "      <td>NaN</td>\n",
       "      <td>NaN</td>\n",
       "      <td>NaN</td>\n",
       "      <td>NaN</td>\n",
       "      <td>NaN</td>\n",
       "      <td>...</td>\n",
       "      <td>0.000000</td>\n",
       "      <td>0.000000</td>\n",
       "      <td>39.254009</td>\n",
       "      <td>65.265602</td>\n",
       "      <td>34.131091</td>\n",
       "      <td>50.374819</td>\n",
       "      <td>0.000000</td>\n",
       "      <td>0.000000</td>\n",
       "      <td>13.244621</td>\n",
       "      <td>22.234024</td>\n",
       "    </tr>\n",
       "    <tr>\n",
       "      <th>2006-01-01 00:40:00</th>\n",
       "      <td>792000.031471</td>\n",
       "      <td>NaN</td>\n",
       "      <td>NaN</td>\n",
       "      <td>NaN</td>\n",
       "      <td>NaN</td>\n",
       "      <td>NaN</td>\n",
       "      <td>NaN</td>\n",
       "      <td>NaN</td>\n",
       "      <td>NaN</td>\n",
       "      <td>NaN</td>\n",
       "      <td>...</td>\n",
       "      <td>0.000000</td>\n",
       "      <td>0.000000</td>\n",
       "      <td>35.873512</td>\n",
       "      <td>60.156126</td>\n",
       "      <td>31.959254</td>\n",
       "      <td>47.677206</td>\n",
       "      <td>0.000000</td>\n",
       "      <td>0.000000</td>\n",
       "      <td>12.745373</td>\n",
       "      <td>21.480955</td>\n",
       "    </tr>\n",
       "    <tr>\n",
       "      <th>2006-01-01 00:50:00</th>\n",
       "      <td>792000.031471</td>\n",
       "      <td>NaN</td>\n",
       "      <td>NaN</td>\n",
       "      <td>NaN</td>\n",
       "      <td>NaN</td>\n",
       "      <td>NaN</td>\n",
       "      <td>NaN</td>\n",
       "      <td>NaN</td>\n",
       "      <td>NaN</td>\n",
       "      <td>NaN</td>\n",
       "      <td>...</td>\n",
       "      <td>0.000000</td>\n",
       "      <td>0.000000</td>\n",
       "      <td>32.519765</td>\n",
       "      <td>55.015185</td>\n",
       "      <td>29.810937</td>\n",
       "      <td>44.950489</td>\n",
       "      <td>0.000000</td>\n",
       "      <td>0.000000</td>\n",
       "      <td>12.244456</td>\n",
       "      <td>20.724507</td>\n",
       "    </tr>\n",
       "    <tr>\n",
       "      <th>...</th>\n",
       "      <td>...</td>\n",
       "      <td>...</td>\n",
       "      <td>...</td>\n",
       "      <td>...</td>\n",
       "      <td>...</td>\n",
       "      <td>...</td>\n",
       "      <td>...</td>\n",
       "      <td>...</td>\n",
       "      <td>...</td>\n",
       "      <td>...</td>\n",
       "      <td>...</td>\n",
       "      <td>...</td>\n",
       "      <td>...</td>\n",
       "      <td>...</td>\n",
       "      <td>...</td>\n",
       "      <td>...</td>\n",
       "      <td>...</td>\n",
       "      <td>...</td>\n",
       "      <td>...</td>\n",
       "      <td>...</td>\n",
       "      <td>...</td>\n",
       "    </tr>\n",
       "    <tr>\n",
       "      <th>2006-12-31 23:30:00</th>\n",
       "      <td>792000.031471</td>\n",
       "      <td>NaN</td>\n",
       "      <td>NaN</td>\n",
       "      <td>NaN</td>\n",
       "      <td>NaN</td>\n",
       "      <td>NaN</td>\n",
       "      <td>NaN</td>\n",
       "      <td>NaN</td>\n",
       "      <td>NaN</td>\n",
       "      <td>NaN</td>\n",
       "      <td>...</td>\n",
       "      <td>220.135250</td>\n",
       "      <td>332.714979</td>\n",
       "      <td>154.925395</td>\n",
       "      <td>218.193810</td>\n",
       "      <td>112.809314</td>\n",
       "      <td>146.909860</td>\n",
       "      <td>43.056663</td>\n",
       "      <td>66.669139</td>\n",
       "      <td>49.921813</td>\n",
       "      <td>69.293029</td>\n",
       "    </tr>\n",
       "    <tr>\n",
       "      <th>2006-12-31 23:40:00</th>\n",
       "      <td>792000.031471</td>\n",
       "      <td>NaN</td>\n",
       "      <td>NaN</td>\n",
       "      <td>NaN</td>\n",
       "      <td>NaN</td>\n",
       "      <td>NaN</td>\n",
       "      <td>NaN</td>\n",
       "      <td>NaN</td>\n",
       "      <td>NaN</td>\n",
       "      <td>NaN</td>\n",
       "      <td>...</td>\n",
       "      <td>204.670192</td>\n",
       "      <td>310.038437</td>\n",
       "      <td>146.227629</td>\n",
       "      <td>206.881016</td>\n",
       "      <td>108.090900</td>\n",
       "      <td>141.150775</td>\n",
       "      <td>39.943071</td>\n",
       "      <td>61.981488</td>\n",
       "      <td>48.593064</td>\n",
       "      <td>67.331922</td>\n",
       "    </tr>\n",
       "    <tr>\n",
       "      <th>2006-12-31 23:50:00</th>\n",
       "      <td>792000.031471</td>\n",
       "      <td>NaN</td>\n",
       "      <td>NaN</td>\n",
       "      <td>NaN</td>\n",
       "      <td>NaN</td>\n",
       "      <td>NaN</td>\n",
       "      <td>NaN</td>\n",
       "      <td>NaN</td>\n",
       "      <td>NaN</td>\n",
       "      <td>NaN</td>\n",
       "      <td>...</td>\n",
       "      <td>189.433027</td>\n",
       "      <td>287.646305</td>\n",
       "      <td>137.617520</td>\n",
       "      <td>195.638747</td>\n",
       "      <td>103.376666</td>\n",
       "      <td>135.395706</td>\n",
       "      <td>36.892472</td>\n",
       "      <td>57.378115</td>\n",
       "      <td>47.260107</td>\n",
       "      <td>65.406557</td>\n",
       "    </tr>\n",
       "    <tr>\n",
       "      <th>2007-01-01 00:00:00</th>\n",
       "      <td>792000.031471</td>\n",
       "      <td>NaN</td>\n",
       "      <td>NaN</td>\n",
       "      <td>NaN</td>\n",
       "      <td>NaN</td>\n",
       "      <td>NaN</td>\n",
       "      <td>NaN</td>\n",
       "      <td>NaN</td>\n",
       "      <td>NaN</td>\n",
       "      <td>NaN</td>\n",
       "      <td>...</td>\n",
       "      <td>174.456379</td>\n",
       "      <td>265.577181</td>\n",
       "      <td>129.101137</td>\n",
       "      <td>184.430195</td>\n",
       "      <td>98.671461</td>\n",
       "      <td>129.645729</td>\n",
       "      <td>33.913731</td>\n",
       "      <td>52.870978</td>\n",
       "      <td>45.925062</td>\n",
       "      <td>63.510961</td>\n",
       "    </tr>\n",
       "    <tr>\n",
       "      <th>2007-01-01 00:00:00</th>\n",
       "      <td>NaN</td>\n",
       "      <td>5.860425e+08</td>\n",
       "      <td>21.386044</td>\n",
       "      <td>88.51381</td>\n",
       "      <td>24.0</td>\n",
       "      <td>40.322994</td>\n",
       "      <td>29.040881</td>\n",
       "      <td>75.307833</td>\n",
       "      <td>48.366306</td>\n",
       "      <td>21.514888</td>\n",
       "      <td>...</td>\n",
       "      <td>NaN</td>\n",
       "      <td>NaN</td>\n",
       "      <td>NaN</td>\n",
       "      <td>NaN</td>\n",
       "      <td>NaN</td>\n",
       "      <td>NaN</td>\n",
       "      <td>NaN</td>\n",
       "      <td>NaN</td>\n",
       "      <td>NaN</td>\n",
       "      <td>NaN</td>\n",
       "    </tr>\n",
       "  </tbody>\n",
       "</table>\n",
       "<p>61320 rows × 76 columns</p>\n",
       "</div>"
      ],
      "text/plain": [
       "                     Electricity:Facility (J)  Electricity:Facility (J)  \\\n",
       "2006-01-01 00:10:00             792000.031471                       NaN   \n",
       "2006-01-01 00:20:00             792000.031471                       NaN   \n",
       "2006-01-01 00:30:00             792000.031471                       NaN   \n",
       "2006-01-01 00:40:00             792000.031471                       NaN   \n",
       "2006-01-01 00:50:00             792000.031471                       NaN   \n",
       "...                                       ...                       ...   \n",
       "2006-12-31 23:30:00             792000.031471                       NaN   \n",
       "2006-12-31 23:40:00             792000.031471                       NaN   \n",
       "2006-12-31 23:50:00             792000.031471                       NaN   \n",
       "2007-01-01 00:00:00             792000.031471                       NaN   \n",
       "2007-01-01 00:00:00                       NaN              5.860425e+08   \n",
       "\n",
       "                     Zone Air Temperature (C)  Zone Air Relative Humidity (%)  \\\n",
       "2006-01-01 00:10:00                       NaN                             NaN   \n",
       "2006-01-01 00:20:00                       NaN                             NaN   \n",
       "2006-01-01 00:30:00                       NaN                             NaN   \n",
       "2006-01-01 00:40:00                       NaN                             NaN   \n",
       "2006-01-01 00:50:00                       NaN                             NaN   \n",
       "...                                       ...                             ...   \n",
       "2006-12-31 23:30:00                       NaN                             NaN   \n",
       "2006-12-31 23:40:00                       NaN                             NaN   \n",
       "2006-12-31 23:50:00                       NaN                             NaN   \n",
       "2007-01-01 00:00:00                       NaN                             NaN   \n",
       "2007-01-01 00:00:00                 21.386044                        88.51381   \n",
       "\n",
       "                     Zone Air Temperature (C)  Zone Air Relative Humidity (%)  \\\n",
       "2006-01-01 00:10:00                       NaN                             NaN   \n",
       "2006-01-01 00:20:00                       NaN                             NaN   \n",
       "2006-01-01 00:30:00                       NaN                             NaN   \n",
       "2006-01-01 00:40:00                       NaN                             NaN   \n",
       "2006-01-01 00:50:00                       NaN                             NaN   \n",
       "...                                       ...                             ...   \n",
       "2006-12-31 23:30:00                       NaN                             NaN   \n",
       "2006-12-31 23:40:00                       NaN                             NaN   \n",
       "2006-12-31 23:50:00                       NaN                             NaN   \n",
       "2007-01-01 00:00:00                       NaN                             NaN   \n",
       "2007-01-01 00:00:00                      24.0                       40.322994   \n",
       "\n",
       "                     Zone Air Temperature (C)  Zone Air Relative Humidity (%)  \\\n",
       "2006-01-01 00:10:00                       NaN                             NaN   \n",
       "2006-01-01 00:20:00                       NaN                             NaN   \n",
       "2006-01-01 00:30:00                       NaN                             NaN   \n",
       "2006-01-01 00:40:00                       NaN                             NaN   \n",
       "2006-01-01 00:50:00                       NaN                             NaN   \n",
       "...                                       ...                             ...   \n",
       "2006-12-31 23:30:00                       NaN                             NaN   \n",
       "2006-12-31 23:40:00                       NaN                             NaN   \n",
       "2006-12-31 23:50:00                       NaN                             NaN   \n",
       "2007-01-01 00:00:00                       NaN                             NaN   \n",
       "2007-01-01 00:00:00                 29.040881                       75.307833   \n",
       "\n",
       "                     Zone Air Temperature (C)  Zone Air Relative Humidity (%)  \\\n",
       "2006-01-01 00:10:00                       NaN                             NaN   \n",
       "2006-01-01 00:20:00                       NaN                             NaN   \n",
       "2006-01-01 00:30:00                       NaN                             NaN   \n",
       "2006-01-01 00:40:00                       NaN                             NaN   \n",
       "2006-01-01 00:50:00                       NaN                             NaN   \n",
       "...                                       ...                             ...   \n",
       "2006-12-31 23:30:00                       NaN                             NaN   \n",
       "2006-12-31 23:40:00                       NaN                             NaN   \n",
       "2006-12-31 23:50:00                       NaN                             NaN   \n",
       "2007-01-01 00:00:00                       NaN                             NaN   \n",
       "2007-01-01 00:00:00                 48.366306                       21.514888   \n",
       "\n",
       "                     ...  Zone Ideal Loads Zone Sensible Cooling Rate (W)  \\\n",
       "2006-01-01 00:10:00  ...                                         0.000000   \n",
       "2006-01-01 00:20:00  ...                                         0.000000   \n",
       "2006-01-01 00:30:00  ...                                         0.000000   \n",
       "2006-01-01 00:40:00  ...                                         0.000000   \n",
       "2006-01-01 00:50:00  ...                                         0.000000   \n",
       "...                  ...                                              ...   \n",
       "2006-12-31 23:30:00  ...                                       220.135250   \n",
       "2006-12-31 23:40:00  ...                                       204.670192   \n",
       "2006-12-31 23:50:00  ...                                       189.433027   \n",
       "2007-01-01 00:00:00  ...                                       174.456379   \n",
       "2007-01-01 00:00:00  ...                                              NaN   \n",
       "\n",
       "                     Zone Ideal Loads Zone Total Cooling Rate (W)  \\\n",
       "2006-01-01 00:10:00                                      0.000000   \n",
       "2006-01-01 00:20:00                                      0.000000   \n",
       "2006-01-01 00:30:00                                      0.000000   \n",
       "2006-01-01 00:40:00                                      0.000000   \n",
       "2006-01-01 00:50:00                                      0.000000   \n",
       "...                                                           ...   \n",
       "2006-12-31 23:30:00                                    332.714979   \n",
       "2006-12-31 23:40:00                                    310.038437   \n",
       "2006-12-31 23:50:00                                    287.646305   \n",
       "2007-01-01 00:00:00                                    265.577181   \n",
       "2007-01-01 00:00:00                                           NaN   \n",
       "\n",
       "                     Zone Ideal Loads Zone Sensible Cooling Rate (W)  \\\n",
       "2006-01-01 00:10:00                                        45.825577   \n",
       "2006-01-01 00:20:00                                        42.524018   \n",
       "2006-01-01 00:30:00                                        39.254009   \n",
       "2006-01-01 00:40:00                                        35.873512   \n",
       "2006-01-01 00:50:00                                        32.519765   \n",
       "...                                                              ...   \n",
       "2006-12-31 23:30:00                                       154.925395   \n",
       "2006-12-31 23:40:00                                       146.227629   \n",
       "2006-12-31 23:50:00                                       137.617520   \n",
       "2007-01-01 00:00:00                                       129.101137   \n",
       "2007-01-01 00:00:00                                              NaN   \n",
       "\n",
       "                     Zone Ideal Loads Zone Total Cooling Rate (W)  \\\n",
       "2006-01-01 00:10:00                                     74.960768   \n",
       "2006-01-01 00:20:00                                     70.120317   \n",
       "2006-01-01 00:30:00                                     65.265602   \n",
       "2006-01-01 00:40:00                                     60.156126   \n",
       "2006-01-01 00:50:00                                     55.015185   \n",
       "...                                                           ...   \n",
       "2006-12-31 23:30:00                                    218.193810   \n",
       "2006-12-31 23:40:00                                    206.881016   \n",
       "2006-12-31 23:50:00                                    195.638747   \n",
       "2007-01-01 00:00:00                                    184.430195   \n",
       "2007-01-01 00:00:00                                           NaN   \n",
       "\n",
       "                     Zone Ideal Loads Zone Sensible Cooling Rate (W)  \\\n",
       "2006-01-01 00:10:00                                        38.481177   \n",
       "2006-01-01 00:20:00                                        36.313872   \n",
       "2006-01-01 00:30:00                                        34.131091   \n",
       "2006-01-01 00:40:00                                        31.959254   \n",
       "2006-01-01 00:50:00                                        29.810937   \n",
       "...                                                              ...   \n",
       "2006-12-31 23:30:00                                       112.809314   \n",
       "2006-12-31 23:40:00                                       108.090900   \n",
       "2006-12-31 23:50:00                                       103.376666   \n",
       "2007-01-01 00:00:00                                        98.671461   \n",
       "2007-01-01 00:00:00                                              NaN   \n",
       "\n",
       "                     Zone Ideal Loads Zone Total Cooling Rate (W)  \\\n",
       "2006-01-01 00:10:00                                     55.577169   \n",
       "2006-01-01 00:20:00                                     53.021464   \n",
       "2006-01-01 00:30:00                                     50.374819   \n",
       "2006-01-01 00:40:00                                     47.677206   \n",
       "2006-01-01 00:50:00                                     44.950489   \n",
       "...                                                           ...   \n",
       "2006-12-31 23:30:00                                    146.909860   \n",
       "2006-12-31 23:40:00                                    141.150775   \n",
       "2006-12-31 23:50:00                                    135.395706   \n",
       "2007-01-01 00:00:00                                    129.645729   \n",
       "2007-01-01 00:00:00                                           NaN   \n",
       "\n",
       "                     Zone Ideal Loads Zone Sensible Cooling Rate (W)  \\\n",
       "2006-01-01 00:10:00                                         0.000000   \n",
       "2006-01-01 00:20:00                                         0.000000   \n",
       "2006-01-01 00:30:00                                         0.000000   \n",
       "2006-01-01 00:40:00                                         0.000000   \n",
       "2006-01-01 00:50:00                                         0.000000   \n",
       "...                                                              ...   \n",
       "2006-12-31 23:30:00                                        43.056663   \n",
       "2006-12-31 23:40:00                                        39.943071   \n",
       "2006-12-31 23:50:00                                        36.892472   \n",
       "2007-01-01 00:00:00                                        33.913731   \n",
       "2007-01-01 00:00:00                                              NaN   \n",
       "\n",
       "                     Zone Ideal Loads Zone Total Cooling Rate (W)  \\\n",
       "2006-01-01 00:10:00                                      0.000000   \n",
       "2006-01-01 00:20:00                                      0.000000   \n",
       "2006-01-01 00:30:00                                      0.000000   \n",
       "2006-01-01 00:40:00                                      0.000000   \n",
       "2006-01-01 00:50:00                                      0.000000   \n",
       "...                                                           ...   \n",
       "2006-12-31 23:30:00                                     66.669139   \n",
       "2006-12-31 23:40:00                                     61.981488   \n",
       "2006-12-31 23:50:00                                     57.378115   \n",
       "2007-01-01 00:00:00                                     52.870978   \n",
       "2007-01-01 00:00:00                                           NaN   \n",
       "\n",
       "                     Zone Ideal Loads Zone Sensible Cooling Rate (W)  \\\n",
       "2006-01-01 00:10:00                                        14.234707   \n",
       "2006-01-01 00:20:00                                        13.741370   \n",
       "2006-01-01 00:30:00                                        13.244621   \n",
       "2006-01-01 00:40:00                                        12.745373   \n",
       "2006-01-01 00:50:00                                        12.244456   \n",
       "...                                                              ...   \n",
       "2006-12-31 23:30:00                                        49.921813   \n",
       "2006-12-31 23:40:00                                        48.593064   \n",
       "2006-12-31 23:50:00                                        47.260107   \n",
       "2007-01-01 00:00:00                                        45.925062   \n",
       "2007-01-01 00:00:00                                              NaN   \n",
       "\n",
       "                     Zone Ideal Loads Zone Total Cooling Rate (W)  \n",
       "2006-01-01 00:10:00                                     23.727903  \n",
       "2006-01-01 00:20:00                                     22.983314  \n",
       "2006-01-01 00:30:00                                     22.234024  \n",
       "2006-01-01 00:40:00                                     21.480955  \n",
       "2006-01-01 00:50:00                                     20.724507  \n",
       "...                                                           ...  \n",
       "2006-12-31 23:30:00                                     69.293029  \n",
       "2006-12-31 23:40:00                                     67.331922  \n",
       "2006-12-31 23:50:00                                     65.406557  \n",
       "2007-01-01 00:00:00                                     63.510961  \n",
       "2007-01-01 00:00:00                                           NaN  \n",
       "\n",
       "[61320 rows x 76 columns]"
      ]
     },
     "execution_count": 30,
     "metadata": {},
     "output_type": "execute_result"
    }
   ],
   "source": [
    "df3"
   ]
  }
 ],
 "metadata": {
  "kernelspec": {
   "display_name": "Python 3",
   "language": "python",
   "name": "python3"
  },
  "language_info": {
   "codemirror_mode": {
    "name": "ipython",
    "version": 3
   },
   "file_extension": ".py",
   "mimetype": "text/x-python",
   "name": "python",
   "nbconvert_exporter": "python",
   "pygments_lexer": "ipython3",
   "version": "3.9.7"
  }
 },
 "nbformat": 4,
 "nbformat_minor": 4
}
