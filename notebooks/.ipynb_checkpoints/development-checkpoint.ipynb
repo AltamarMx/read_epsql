{
 "cells": [
  {
   "cell_type": "code",
   "execution_count": 1,
   "metadata": {},
   "outputs": [],
   "source": [
    "import sqlite3 as sql\n",
    "import pandas as pd\n"
   ]
  },
  {
   "cell_type": "code",
   "execution_count": 2,
   "metadata": {},
   "outputs": [],
   "source": [
    "myconn = sql.connect(\"../data/eplusout_eapc.sql\")"
   ]
  },
  {
   "cell_type": "code",
   "execution_count": 3,
   "metadata": {},
   "outputs": [],
   "source": [
    "command = \"\"\"SELECT * FROM  Materials \"\"\"\n",
    "m       = pd.read_sql_query(command,con=myconn)\n",
    "m = m.rename(columns={'Name': 'NameMaterial'})\n",
    "# \n",
    "command = \"\"\"SELECT * FROM  Constructions \"\"\"\n",
    "c = pd.read_sql_query(command,con=myconn)\n",
    "c = c.rename(columns={'Name': 'NameConstruction'})\n",
    "# \n",
    "command = \"\"\"SELECT * FROM  ConstructionLayers \"\"\"\n",
    "l = pd.read_sql_query(command,con=myconn)\n",
    "ml   = pd.merge(m,l)\n",
    "mlc = pd.merge(ml,c)"
   ]
  },
  {
   "cell_type": "code",
   "execution_count": null,
   "metadata": {},
   "outputs": [],
   "source": []
  },
  {
   "cell_type": "code",
   "execution_count": 4,
   "metadata": {},
   "outputs": [],
   "source": [
    "propiedades = ['NameMaterial','Conductivity', 'Density','SpecHeat', 'Thickness',\n",
    "       'NameConstruction', 'TotalLayers', 'InsideAbsorpVis', 'OutsideAbsorpVis',\n",
    "       'InsideAbsorpSolar', 'OutsideAbsorpSolar', 'InsideAbsorpThermal',\n",
    "       'OutsideAbsorpThermal', 'OutsideRoughness']\n",
    "# nc"
   ]
  },
  {
   "cell_type": "code",
   "execution_count": 5,
   "metadata": {},
   "outputs": [
    {
     "data": {
      "text/plain": [
       "array(['ASHRAE 189.1-2009 EXTWALL MASS CLIMATEZONE 5', 'CIELOYESOAISLADO',\n",
       "       'PISOTEJADO', 'TEJADO', 'EXTERIOR DOOR', 'PUERTA',\n",
       "       'INTERIOR CEILING', 'INTERIOR FLOOR', 'PISOINTERIORAISLADO',\n",
       "       'PLACACUBIERTAAISLADA', 'INTERIOR WALL', 'INTERIOR DOOR',\n",
       "       'INTERIOR PARTITION', 'EXTSLABCARPET 4IN CLIMATEZONE 1-8', 'PISO',\n",
       "       'ASHRAE 189.1-2009 EXTROOF IEAD CLIMATEZONE 2-5',\n",
       "       'CONCRETOMURO15CM', 'CONCRETOMURO20CM', 'INTERIOR WINDOW',\n",
       "       'ASHRAE 189.1-2009 EXTWINDOW CLIMATEZONE 4-5', 'VENTANA'],\n",
       "      dtype=object)"
      ]
     },
     "execution_count": 5,
     "metadata": {},
     "output_type": "execute_result"
    }
   ],
   "source": [
    "mlc.NameConstruction.unique()\n"
   ]
  },
  {
   "cell_type": "code",
   "execution_count": 6,
   "metadata": {},
   "outputs": [],
   "source": [
    "nombre_SC = 'CONCRETOMURO20CM'\n",
    "nombre_SC = 'TEJADO'"
   ]
  },
  {
   "cell_type": "code",
   "execution_count": 7,
   "metadata": {},
   "outputs": [
    {
     "data": {
      "text/html": [
       "<div>\n",
       "<style scoped>\n",
       "    .dataframe tbody tr th:only-of-type {\n",
       "        vertical-align: middle;\n",
       "    }\n",
       "\n",
       "    .dataframe tbody tr th {\n",
       "        vertical-align: top;\n",
       "    }\n",
       "\n",
       "    .dataframe thead th {\n",
       "        text-align: right;\n",
       "    }\n",
       "</style>\n",
       "<table border=\"1\" class=\"dataframe\">\n",
       "  <thead>\n",
       "    <tr style=\"text-align: right;\">\n",
       "      <th></th>\n",
       "      <th>NameMaterial</th>\n",
       "      <th>Conductivity</th>\n",
       "      <th>Density</th>\n",
       "      <th>SpecHeat</th>\n",
       "      <th>Thickness</th>\n",
       "      <th>NameConstruction</th>\n",
       "      <th>TotalLayers</th>\n",
       "      <th>InsideAbsorpVis</th>\n",
       "      <th>OutsideAbsorpVis</th>\n",
       "      <th>InsideAbsorpSolar</th>\n",
       "      <th>OutsideAbsorpSolar</th>\n",
       "      <th>InsideAbsorpThermal</th>\n",
       "      <th>OutsideAbsorpThermal</th>\n",
       "      <th>OutsideRoughness</th>\n",
       "    </tr>\n",
       "  </thead>\n",
       "  <tbody>\n",
       "    <tr>\n",
       "      <th>10</th>\n",
       "      <td>ABESTOFIBER 1CM</td>\n",
       "      <td>0.17</td>\n",
       "      <td>2400.0</td>\n",
       "      <td>1050.0</td>\n",
       "      <td>0.0100</td>\n",
       "      <td>TEJADO</td>\n",
       "      <td>4</td>\n",
       "      <td>0.3</td>\n",
       "      <td>0.7</td>\n",
       "      <td>0.3</td>\n",
       "      <td>0.7</td>\n",
       "      <td>0.9</td>\n",
       "      <td>0.9</td>\n",
       "      <td>2</td>\n",
       "    </tr>\n",
       "    <tr>\n",
       "      <th>12</th>\n",
       "      <td>I01 50MM INSULATION BOARD</td>\n",
       "      <td>0.03</td>\n",
       "      <td>43.0</td>\n",
       "      <td>1210.0</td>\n",
       "      <td>0.0508</td>\n",
       "      <td>TEJADO</td>\n",
       "      <td>4</td>\n",
       "      <td>0.3</td>\n",
       "      <td>0.7</td>\n",
       "      <td>0.3</td>\n",
       "      <td>0.7</td>\n",
       "      <td>0.9</td>\n",
       "      <td>0.9</td>\n",
       "      <td>2</td>\n",
       "    </tr>\n",
       "    <tr>\n",
       "      <th>13</th>\n",
       "      <td>F05 CEILING AIR SPACE RESISTANCE</td>\n",
       "      <td>0.00</td>\n",
       "      <td>0.0</td>\n",
       "      <td>0.0</td>\n",
       "      <td>0.0000</td>\n",
       "      <td>TEJADO</td>\n",
       "      <td>4</td>\n",
       "      <td>0.3</td>\n",
       "      <td>0.7</td>\n",
       "      <td>0.3</td>\n",
       "      <td>0.7</td>\n",
       "      <td>0.9</td>\n",
       "      <td>0.9</td>\n",
       "      <td>2</td>\n",
       "    </tr>\n",
       "    <tr>\n",
       "      <th>11</th>\n",
       "      <td>F16 ACOUSTIC TILE</td>\n",
       "      <td>0.06</td>\n",
       "      <td>368.0</td>\n",
       "      <td>590.0</td>\n",
       "      <td>0.0191</td>\n",
       "      <td>TEJADO</td>\n",
       "      <td>4</td>\n",
       "      <td>0.3</td>\n",
       "      <td>0.7</td>\n",
       "      <td>0.3</td>\n",
       "      <td>0.7</td>\n",
       "      <td>0.9</td>\n",
       "      <td>0.9</td>\n",
       "      <td>2</td>\n",
       "    </tr>\n",
       "  </tbody>\n",
       "</table>\n",
       "</div>"
      ],
      "text/plain": [
       "                        NameMaterial  Conductivity  Density  SpecHeat  \\\n",
       "10                   ABESTOFIBER 1CM          0.17   2400.0    1050.0   \n",
       "12         I01 50MM INSULATION BOARD          0.03     43.0    1210.0   \n",
       "13  F05 CEILING AIR SPACE RESISTANCE          0.00      0.0       0.0   \n",
       "11                 F16 ACOUSTIC TILE          0.06    368.0     590.0   \n",
       "\n",
       "    Thickness NameConstruction  TotalLayers  InsideAbsorpVis  \\\n",
       "10     0.0100           TEJADO            4              0.3   \n",
       "12     0.0508           TEJADO            4              0.3   \n",
       "13     0.0000           TEJADO            4              0.3   \n",
       "11     0.0191           TEJADO            4              0.3   \n",
       "\n",
       "    OutsideAbsorpVis  InsideAbsorpSolar  OutsideAbsorpSolar  \\\n",
       "10               0.7                0.3                 0.7   \n",
       "12               0.7                0.3                 0.7   \n",
       "13               0.7                0.3                 0.7   \n",
       "11               0.7                0.3                 0.7   \n",
       "\n",
       "    InsideAbsorpThermal  OutsideAbsorpThermal  OutsideRoughness  \n",
       "10                  0.9                   0.9                 2  \n",
       "12                  0.9                   0.9                 2  \n",
       "13                  0.9                   0.9                 2  \n",
       "11                  0.9                   0.9                 2  "
      ]
     },
     "execution_count": 7,
     "metadata": {},
     "output_type": "execute_result"
    }
   ],
   "source": [
    "# mlc.columns\n",
    "sc = mlc.loc[mlc.NameConstruction==nombre_SC].sort_values('ConstructionLayersIndex')[propiedades]\n",
    "variables = ['NameConstruction', 'TotalLayers', 'InsideAbsorpVis',\n",
    "       'OutsideAbsorpVis', 'InsideAbsorpSolar', 'OutsideAbsorpSolar',\n",
    "       'InsideAbsorpThermal', 'OutsideAbsorpThermal', 'OutsideRoughness']\n",
    "sc"
   ]
  },
  {
   "cell_type": "code",
   "execution_count": null,
   "metadata": {},
   "outputs": [],
   "source": []
  },
  {
   "cell_type": "code",
   "execution_count": 8,
   "metadata": {},
   "outputs": [
    {
     "ename": "NameError",
     "evalue": "name 'SC' is not defined",
     "output_type": "error",
     "traceback": [
      "\u001b[0;31m---------------------------------------------------------------------------\u001b[0m",
      "\u001b[0;31mNameError\u001b[0m                                 Traceback (most recent call last)",
      "\u001b[0;32m<ipython-input-8-8f34d1835420>\u001b[0m in \u001b[0;36m<module>\u001b[0;34m\u001b[0m\n\u001b[0;32m----> 1\u001b[0;31m \u001b[0mSC\u001b[0m\u001b[0;34m\u001b[0m\u001b[0;34m\u001b[0m\u001b[0m\n\u001b[0m",
      "\u001b[0;31mNameError\u001b[0m: name 'SC' is not defined"
     ]
    }
   ],
   "source": [
    "SC"
   ]
  }
 ],
 "metadata": {
  "kernelspec": {
   "display_name": "Python 3",
   "language": "python",
   "name": "python3"
  },
  "language_info": {
   "codemirror_mode": {
    "name": "ipython",
    "version": 3
   },
   "file_extension": ".py",
   "mimetype": "text/x-python",
   "name": "python",
   "nbconvert_exporter": "python",
   "pygments_lexer": "ipython3",
   "version": "3.9.7"
  }
 },
 "nbformat": 4,
 "nbformat_minor": 4
}
