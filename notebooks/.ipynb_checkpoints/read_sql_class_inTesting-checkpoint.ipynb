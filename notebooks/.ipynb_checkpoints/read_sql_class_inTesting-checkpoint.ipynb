{
 "cells": [
  {
   "cell_type": "code",
   "execution_count": 1,
   "metadata": {},
   "outputs": [],
   "source": [
    "import sqlite3 as sql\n",
    "import pandas as pd\n",
    "import matplotlib.pyplot as plt"
   ]
  },
  {
   "cell_type": "code",
   "execution_count": 2,
   "metadata": {},
   "outputs": [],
   "source": [
    "class read_eplusql:\n",
    "    def __init__(self,file,read=\"data\"):\n",
    "        \n",
    "        self.myconn = sql.connect(file)\n",
    "        if read==\"data\" or \"all\":\n",
    "            command = \"SELECT ReportDataDictionaryIndex, KeyValue, Name, Units FROM ReportDataDictionary\"\n",
    "            variables = pd.read_sql_query(command,con=self.myconn)\n",
    "\n",
    "            variables['variable_name'] = variables.KeyValue + ':' + variables.Name + ' (' + variables.Units + ')'\n",
    "            self.variables = variables\n",
    "            self.vars = variables.variable_name.unique()\n",
    "\n",
    "            command = \"SELECT tm.TimeIndex, tm.Year, tm.Month, tm.Day, tm.Hour, tm.Minute FROM Time AS tm\"\n",
    "            time = pd.read_sql_query(command,con=self.myconn)\n",
    "            time = time[time.Year!=0]\n",
    "            command = \"\"\"SELECT ReportData.TimeIndex, ReportData.ReportDataDictionaryIndex, ReportData.Value\n",
    "              FROM (ReportData INNER JOIN ReportDataDictionary ON ReportData.ReportDataDictionaryIndex = ReportDataDictionary.ReportDataDictionaryIndex) \n",
    "              INNER JOIN Time ON ReportData.TimeIndex = Time.TimeIndex\"\"\"\n",
    "            data = pd.read_sql_query(command,con=self.myconn)\n",
    "            data_variables = pd.merge(data,self.variables)\n",
    "            data_variables_time = pd.merge(data_variables,time)\n",
    "            df = data_variables_time.copy()\n",
    "            df['date'] = pd.to_datetime(df[['Year','Month','Day']])\n",
    "            df.loc[df.Hour==24,'date'] += pd.Timedelta('1D')\n",
    "            df.loc[df.Hour==24,'Hour'] = 0\n",
    "            df['date'] = pd.to_datetime(df[['Year','Month','Day','Hour','Minute']])\n",
    "            df['variable_name'] = df.KeyValue + ':' + df.Name + ' (' + df.Units + ')'\n",
    "            df  = df.pivot_table(index=\"date\", columns=\"variable_name\", values=\"Value\")\n",
    "    #         df  = df.pivot(index=\"date\", columns=\"variable_name\", values=\"Value\")\n",
    "            self.data = df\n",
    "    \n",
    "        \n",
    "        if read==\"construction\" or \"all\":\n",
    "            print(\"aca\")\n",
    "            command = \"\"\"SELECT * FROM  Materials \"\"\"\n",
    "            m       = pd.read_sql_query(command,con=self.myconn)\n",
    "            m = m.rename(columns={'Name': 'NameMaterial'})\n",
    "            # \n",
    "            command = \"\"\"SELECT * FROM  Constructions \"\"\"\n",
    "            c = pd.read_sql_query(command,con=self.myconn)\n",
    "            c = c.rename(columns={'Name': 'NameConstruction'})\n",
    "            # \n",
    "            command = \"\"\"SELECT * FROM  ConstructionLayers \"\"\"\n",
    "            l = pd.read_sql_query(command,con=self.myconn)\n",
    "            ml   = pd.merge(m,l)\n",
    "            mlc = pd.merge(ml,c)\n",
    "            self.mlc = mlc\n",
    "            self.construction_systems = mlc.NameConstruction.unique()\n",
    "\n",
    "    def get_data(self,variables):\n",
    "        return self.data[variables]\n",
    "    def get_construction(self,name_cs):\n",
    "        properties = ['NameMaterial','Conductivity', 'Density','SpecHeat', 'Thickness',\n",
    "       'NameConstruction', 'TotalLayers', 'InsideAbsorpVis', 'OutsideAbsorpVis',\n",
    "       'InsideAbsorpSolar', 'OutsideAbsorpSolar', 'InsideAbsorpThermal',\n",
    "       'OutsideAbsorpThermal', 'OutsideRoughness']\n",
    "        cs = self.mlc.loc[self.mlc.NameConstruction==name_cs].sort_values('ConstructionLayersIndex')[properties]\n",
    "        \n",
    "        return cs\n"
   ]
  },
  {
   "cell_type": "code",
   "execution_count": 3,
   "metadata": {},
   "outputs": [],
   "source": [
    "df = read_eplusql(\"../data/eplusoutTo.sql\")\n"
   ]
  },
  {
   "cell_type": "code",
   "execution_count": null,
   "metadata": {},
   "outputs": [],
   "source": [
    "df.construction_systems"
   ]
  },
  {
   "cell_type": "code",
   "execution_count": null,
   "metadata": {},
   "outputs": [],
   "source": [
    "df.get_construction('PS-01')"
   ]
  },
  {
   "cell_type": "code",
   "execution_count": null,
   "metadata": {},
   "outputs": [],
   "source": [
    "variables = df.vars\n",
    "variables"
   ]
  },
  {
   "cell_type": "code",
   "execution_count": null,
   "metadata": {
    "scrolled": false
   },
   "outputs": [],
   "source": [
    "variables = ['Environment:Site Outdoor Air Drybulb Temperature (C)',\n",
    "       'N1AU404:Zone Mean Air Temperature (C)',\n",
    "       'N2AU101:Zone Mean Air Temperature (C)',\n",
    "       'N2AU102:Zone Mean Air Temperature (C)',\n",
    "       'N2AU103:Zone Mean Air Temperature (C)',]"
   ]
  },
  {
   "cell_type": "code",
   "execution_count": null,
   "metadata": {},
   "outputs": [],
   "source": [
    "caso1 = df.get_data(variables)"
   ]
  },
  {
   "cell_type": "code",
   "execution_count": null,
   "metadata": {},
   "outputs": [],
   "source": [
    "# fig, ax = plt.subplots(figsize=(10,4))\n",
    "\n",
    "# ax.plot(caso1)"
   ]
  },
  {
   "cell_type": "code",
   "execution_count": null,
   "metadata": {},
   "outputs": [],
   "source": [
    "caso1.plot(subplots=True,figsize=(20,20));"
   ]
  }
 ],
 "metadata": {
  "kernelspec": {
   "display_name": "Python 3",
   "language": "python",
   "name": "python3"
  },
  "language_info": {
   "codemirror_mode": {
    "name": "ipython",
    "version": 3
   },
   "file_extension": ".py",
   "mimetype": "text/x-python",
   "name": "python",
   "nbconvert_exporter": "python",
   "pygments_lexer": "ipython3",
   "version": "3.9.7"
  }
 },
 "nbformat": 4,
 "nbformat_minor": 4
}
